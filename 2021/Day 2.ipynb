{
 "cells": [
  {
   "cell_type": "markdown",
   "metadata": {},
   "source": [
    "[https://adventofcode.com/2021/day/2](https://adventofcode.com/2021/day/2)"
   ]
  },
  {
   "cell_type": "markdown",
   "metadata": {},
   "source": [
    "## PART 1"
   ]
  },
  {
   "cell_type": "code",
   "execution_count": 9,
   "metadata": {},
   "outputs": [
    {
     "name": "stdout",
     "output_type": "stream",
     "text": [
      "1991\n",
      "911\n"
     ]
    },
    {
     "data": {
      "text/plain": [
       "1813801"
      ]
     },
     "execution_count": 9,
     "metadata": {},
     "output_type": "execute_result"
    }
   ],
   "source": [
    "import os\n",
    "notebook_path = os.path.abspath(\"Day 2.ipynb\")\n",
    "input_path = os.path.join(os.path.dirname(notebook_path), \"Day2.txt\")\n",
    "with open(input_path) as file:\n",
    "    input_split = file.read().splitlines()\n",
    "    movements = tuple(x.split(\" \") for x in input_split)\n",
    "\n",
    "forward_pos = 0\n",
    "depth_pos = 0\n",
    "\n",
    "for movement in movements:\n",
    "    if movement[0] == 'forward':\n",
    "        forward_pos += int(movement[1])\n",
    "    if movement[0] == 'down':\n",
    "        depth_pos += int(movement[1])\n",
    "    if movement[0] == 'up':\n",
    "        if depth_pos - int(movement[1]) < 0:\n",
    "            depth_pos = 0\n",
    "        else:\n",
    "            depth_pos -= int(movement[1])\n",
    "\n",
    "print(forward_pos)\n",
    "print(depth_pos)\n",
    "\n",
    "forward_pos * depth_pos\n"
   ]
  },
  {
   "cell_type": "markdown",
   "metadata": {},
   "source": [
    "## PART 2"
   ]
  },
  {
   "cell_type": "code",
   "execution_count": 13,
   "metadata": {},
   "outputs": [
    {
     "name": "stdout",
     "output_type": "stream",
     "text": [
      "1991\n",
      "984716\n"
     ]
    },
    {
     "data": {
      "text/plain": [
       "1960569556"
      ]
     },
     "execution_count": 13,
     "metadata": {},
     "output_type": "execute_result"
    }
   ],
   "source": [
    "forward_pos = 0\n",
    "depth_pos = 0\n",
    "aim = 0\n",
    "\n",
    "for movement in movements:\n",
    "    units = int(movement[1])\n",
    "    if movement[0] == 'forward':\n",
    "        forward_pos += units\n",
    "        depth_pos += units * aim\n",
    "    if movement[0] == 'down':\n",
    "        aim += units\n",
    "    if movement[0] == 'up':\n",
    "        if aim - units < 0:\n",
    "            aim = 0\n",
    "        else:\n",
    "            aim -= units\n",
    "\n",
    "print(forward_pos)\n",
    "print(depth_pos)\n",
    "\n",
    "forward_pos * depth_pos"
   ]
  }
 ],
 "metadata": {
  "interpreter": {
   "hash": "63fd5069d213b44bf678585dea6b12cceca9941eaf7f819626cde1f2670de90d"
  },
  "kernelspec": {
   "display_name": "Python 3.9.2 64-bit",
   "language": "python",
   "name": "python3"
  },
  "language_info": {
   "codemirror_mode": {
    "name": "ipython",
    "version": 3
   },
   "file_extension": ".py",
   "mimetype": "text/x-python",
   "name": "python",
   "nbconvert_exporter": "python",
   "pygments_lexer": "ipython3",
   "version": "3.9.2"
  },
  "orig_nbformat": 4
 },
 "nbformat": 4,
 "nbformat_minor": 2
}
