{
 "cells": [
  {
   "cell_type": "markdown",
   "metadata": {},
   "source": [
    "[https://adventofcode.com/2021/day/2](https://adventofcode.com/2021/day/2)"
   ]
  },
  {
   "cell_type": "markdown",
   "metadata": {},
   "source": [
    "## PART 1"
   ]
  },
  {
   "cell_type": "code",
   "execution_count": null,
   "metadata": {},
   "outputs": [],
   "source": [
    "import os\n",
    "notebook_path = os.path.abspath(\"Day 1.1.ipynb\")\n",
    "input_path = os.path.join(os.path.dirname(notebook_path), \"Day1.txt\")\n",
    "with open(input_path) as file:\n",
    "    input_split = file.read().splitlines()\n",
    "    map_object = map(int, input_split)\n",
    "    readings = list(map_object)\n",
    "\n",
    "total_increases = 0\n",
    "prev_depth = 0\n",
    "for reading in readings:\n",
    "    if prev_depth == 0:\n",
    "        prev_depth = reading\n",
    "        print(f\"{reading} (N/A - no previous measurement)\")\n",
    "        continue\n",
    "    if reading > prev_depth:\n",
    "        total_increases += 1\n",
    "        print(f\"{reading} (increased) Total: {total_increases}\")\n",
    "    else:\n",
    "        print(f\"{reading} (decreased)\")\n",
    "    prev_depth = reading\n",
    "\n",
    "total_increases"
   ]
  },
  {
   "cell_type": "markdown",
   "metadata": {},
   "source": [
    "## PART 2"
   ]
  },
  {
   "cell_type": "code",
   "execution_count": 10,
   "metadata": {},
   "outputs": [
    {
     "data": {
      "text/plain": [
       "1653"
      ]
     },
     "execution_count": 10,
     "metadata": {},
     "output_type": "execute_result"
    }
   ],
   "source": [
    "total_increases = 0\n",
    "\n",
    "for i in range(1, len(readings)-2):\n",
    "    if readings[i-1] + readings[i] + readings[i+1] < readings[i] + readings[i+1] + readings[i+2]:\n",
    "        total_increases += 1\n",
    "\n",
    "total_increases"
   ]
  }
 ],
 "metadata": {
  "interpreter": {
   "hash": "63fd5069d213b44bf678585dea6b12cceca9941eaf7f819626cde1f2670de90d"
  },
  "kernelspec": {
   "display_name": "Python 3.9.2 64-bit",
   "language": "python",
   "name": "python3"
  },
  "language_info": {
   "codemirror_mode": {
    "name": "ipython",
    "version": 3
   },
   "file_extension": ".py",
   "mimetype": "text/x-python",
   "name": "python",
   "nbconvert_exporter": "python",
   "pygments_lexer": "ipython3",
   "version": "3.9.2"
  },
  "orig_nbformat": 4
 },
 "nbformat": 4,
 "nbformat_minor": 2
}
