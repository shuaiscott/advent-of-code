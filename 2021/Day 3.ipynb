{
 "cells": [
  {
   "cell_type": "markdown",
   "metadata": {},
   "source": [
    "[https://adventofcode.com/2021/day/3](https://adventofcode.com/2021/day/3)"
   ]
  },
  {
   "cell_type": "markdown",
   "metadata": {},
   "source": [
    "## PART 1"
   ]
  },
  {
   "cell_type": "code",
   "execution_count": 34,
   "metadata": {},
   "outputs": [
    {
     "name": "stdout",
     "output_type": "stream",
     "text": [
      "[[0, 0, 0, 0], [0, 0, 0, 0], [0, 0, 0, 0], [0, 0, 0, 0], [0, 0, 0, 0], [0, 0, 0, 0], [0, 0, 0, 0], [0, 0, 0, 0], [0, 0, 0, 0], [0, 0, 0, 0], [0, 0, 0, 0], [0, 0, 0, 0]]\n",
      "[[513, 487, 0, 1], [481, 519, 1, 0], [484, 516, 1, 0], [492, 508, 1, 0], [486, 514, 1, 0], [493, 507, 1, 0], [477, 523, 1, 0], [506, 494, 0, 1], [491, 509, 1, 0], [493, 507, 1, 0], [534, 466, 0, 1], [505, 495, 0, 1]]\n"
     ]
    },
    {
     "data": {
      "text/plain": [
       "4191876"
      ]
     },
     "execution_count": 34,
     "metadata": {},
     "output_type": "execute_result"
    }
   ],
   "source": [
    "import os\n",
    "notebook_path = os.path.abspath(\"Day 3.ipynb\")\n",
    "input_path = os.path.join(os.path.dirname(notebook_path), \"Day3.txt\")\n",
    "with open(input_path) as file:\n",
    "    input_split = file.read().splitlines()\n",
    "    \n",
    "pos = [[0]*4 for i in range(12)]\n",
    "print(pos)\n",
    "for line in input_split:\n",
    "    s = list(line)\n",
    "    for i in range(0,12):\n",
    "        pos[i][int(s[i])] += 1\n",
    "        if pos[i][0] > pos[i][1]:\n",
    "            pos[i][2] = 0\n",
    "            pos[i][3] = 1\n",
    "        else:\n",
    "            pos[i][2] = 1\n",
    "            pos[i][3] = 0\n",
    "print(pos)\n",
    "\n",
    "gamma_str = ''\n",
    "epsilon_str = ''\n",
    "for i in range(0,12):\n",
    "    gamma_str +=str(pos[i][2])\n",
    "    epsilon_str +=str(pos[i][3])\n",
    "\n",
    "gamma = int(gamma_str, base=2)\n",
    "epsilon = int(epsilon_str, base=2)\n",
    "\n",
    "gamma * epsilon"
   ]
  },
  {
   "cell_type": "markdown",
   "metadata": {},
   "source": [
    "## PART 2"
   ]
  },
  {
   "cell_type": "code",
   "execution_count": 66,
   "metadata": {},
   "outputs": [
    {
     "name": "stdout",
     "output_type": "stream",
     "text": [
      "256,257\n",
      "132,125\n",
      "63,69\n",
      "44,25\n",
      "22,22\n",
      "11,11\n",
      "6,5\n",
      "3,3\n",
      "1,2\n",
      "0,2\n",
      "1,1\n",
      "Returning the One left: ['010101101111']\n",
      "225,262\n",
      "112,113\n",
      "58,54\n",
      "31,23\n",
      "11,12\n",
      "5,6\n",
      "3,2\n",
      "1,1\n",
      "Returning the One left: ['100110010111']\n",
      "Oxy Gen: 1391\n",
      "CO2 Scrub: 2455\n"
     ]
    },
    {
     "data": {
      "text/plain": [
       "3414905"
      ]
     },
     "execution_count": 66,
     "metadata": {},
     "output_type": "execute_result"
    }
   ],
   "source": [
    "import operator\n",
    "\n",
    "def get_rating(readings, index, operator):\n",
    "    if len(readings) == 1:\n",
    "        print(f\"Returning the One left: {readings}\")\n",
    "        return readings[0]\n",
    "\n",
    "    zero_readings = []\n",
    "    one_readings = []\n",
    "    for line in readings:\n",
    "        bit = list(line)[index]\n",
    "        if int(bit) == 1:\n",
    "            one_readings.append(line)\n",
    "        else:\n",
    "            zero_readings.append(line)\n",
    "    \n",
    "    print(f\"{len(zero_readings)},{len(one_readings)}\")\n",
    "    if operator(len(zero_readings), len(one_readings)):\n",
    "        return get_rating(zero_readings, index+1, operator)\n",
    "    else:\n",
    "        return get_rating(one_readings, index+1, operator)\n",
    "\n",
    "\n",
    "\n",
    "zero_readings = []\n",
    "one_readings = []\n",
    "for line in input_split:\n",
    "    bit = list(line)[0]\n",
    "    if int(bit) == 1:\n",
    "        one_readings.append(line)\n",
    "    else:\n",
    "        zero_readings.append(line)\n",
    "\n",
    "if len(one_readings) > len(zero_readings):\n",
    "    least = zero_readings\n",
    "    most = one_readings\n",
    "else:\n",
    "    least = one_readings\n",
    "    most = zero_readings\n",
    "\n",
    "oxy_str = get_rating(most, 1, operator.gt)\n",
    "scrubber_str = get_rating(least, 1, operator.le)\n",
    "\n",
    "oxy = int(oxy_str, base=2)\n",
    "scrubber = int(scrubber_str, base=2)\n",
    "\n",
    "print(f\"Oxy Gen: {oxy}\")\n",
    "print(f\"CO2 Scrub: {scrubber}\")\n",
    "\n",
    "oxy * scrubber"
   ]
  }
 ],
 "metadata": {
  "interpreter": {
   "hash": "63fd5069d213b44bf678585dea6b12cceca9941eaf7f819626cde1f2670de90d"
  },
  "kernelspec": {
   "display_name": "Python 3.9.2 64-bit",
   "language": "python",
   "name": "python3"
  },
  "language_info": {
   "codemirror_mode": {
    "name": "ipython",
    "version": 3
   },
   "file_extension": ".py",
   "mimetype": "text/x-python",
   "name": "python",
   "nbconvert_exporter": "python",
   "pygments_lexer": "ipython3",
   "version": "3.9.2"
  },
  "orig_nbformat": 4
 },
 "nbformat": 4,
 "nbformat_minor": 2
}
